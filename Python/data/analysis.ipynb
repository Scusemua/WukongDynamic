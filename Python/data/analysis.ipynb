{
 "cells": [
  {
   "cell_type": "code",
   "execution_count": 183,
   "id": "9f9fd8aa",
   "metadata": {},
   "outputs": [],
   "source": [
    "import numpy as np\n",
    "import random\n",
    "import matplotlib.pyplot as plt\n",
    "import scipy \n",
    "import pandas as pd\n",
    "import time\n",
    "import datetime\n",
    "import os\n",
    "from decimal import Decimal\n",
    "\n",
    "from scipy import stats\n",
    "\n",
    "plt.style.use('seaborn-whitegrid')\n",
    "plt.rcParams['lines.linewidth'] = 2\n",
    "plt.rcParams['font.sans-serif'] = 'Arial'\n",
    "plt.rcParams['text.color'] = 'black'\n",
    "plt.rcParams['axes.labelcolor']= 'black'\n",
    "plt.rcParams['xtick.color'] = 'black'\n",
    "plt.rcParams['ytick.color'] = 'black'\n",
    "plt.rcParams['font.size']=24"
   ]
  },
  {
   "cell_type": "markdown",
   "id": "0647f86e",
   "metadata": {},
   "source": [
    "## Helper functions"
   ]
  },
  {
   "cell_type": "code",
   "execution_count": 175,
   "id": "f7ce498a",
   "metadata": {},
   "outputs": [],
   "source": [
    "def unpaired_observations(A: list, B: list, alpha = 0.05):\n",
    "    print(\"==== Unpaired Observations t-Test ====\\n\")\n",
    "    print(\"A = %s\\n\\nB = %s\\n\" % (str(A), str(B)))\n",
    "    #print(\"alpha = %f\\n\" % alpha)\n",
    "\n",
    "    n_a = len(A)\n",
    "    n_b = len(B)\n",
    "\n",
    "    xbar_a = sum(A) / n_a \n",
    "    xbar_b = sum(B) / n_b \n",
    "\n",
    "    print(\"Length of A: %d\\nLength of B: %d\" % (n_a, n_b))\n",
    "    print(\"Average of A: %f\\nAverage of B: %f\" % (xbar_a, xbar_b))\n",
    "\n",
    "    s_A = sample_standard_deviation(A, xbar_a)\n",
    "    s_B = sample_standard_deviation(B, xbar_b)\n",
    "\n",
    "    print(\"Sample standard deviation of A: %f\\nSample standard deviation of B: %f\" % (s_A, s_B)) \n",
    "\n",
    "    mean_difference = xbar_a - xbar_b\n",
    "    std_dev_mean_diff = (((s_A ** 2) / n_a) + ((s_B ** 2) / n_b)) ** 0.5\n",
    "\n",
    "    print(\"Mean difference: %f\\nStandard deviation of the mean difference: %f\" % (mean_difference, std_dev_mean_diff))\n",
    "\n",
    "    degrees_of_freedom = effective_deg_freedom(s_A, n_a, s_B, n_b)\n",
    "    print(\"Effect number of degrees of freedom: %f\" % degrees_of_freedom)\n",
    "\n",
    "    print(scipy.stats.ttest_ind(A, B, axis=0, equal_var = False))\n",
    "    \n",
    "    # For p < 0.05, the equivalent to Excel's TINV(0.05, 999) is stats.t.ppf(1 - 0.025, 999).\n",
    "    t_stat = stats.t.ppf(1 - alpha/2, degrees_of_freedom)\n",
    "    print(\"t statistic: %f\" % t_stat)\n",
    "\n",
    "    lower_bound_ci = mean_difference - (t_stat * std_dev_mean_diff)\n",
    "    upper_bound_ci = mean_difference + (t_stat * std_dev_mean_diff)\n",
    "    \n",
    "    pval = stats.t.sf(np.abs(t_stat), degrees_of_freedom) * 2\n",
    "    print(\"\\n\\nCI ( %f , %f ), p = %f\" % (lower_bound_ci, upper_bound_ci, pval))\n",
    "\n",
    "    if (lower_bound_ci < 0 and upper_bound_ci > 0):\n",
    "        print(\"Interval contains 0. No conclusion can be reached.\")\n",
    "    else:\n",
    "        print(\"Interval does NOT contain 0.\")\n",
    "\n",
    "    #print(\"\\n*** ALPHA WAS SET TO %f ***\" % alpha)\n",
    "\n",
    "def sample_standard_deviation(X: list, xbar: float) -> float:\n",
    "   return ( (sum([x**2 for x in X]) - (len(X) * (xbar**2))) / (len(X) - 1) )**0.5\n",
    "\n",
    "def effective_deg_freedom(s_a: float, n_a: float, s_b: float, n_b: float) -> float:\n",
    "   numerator = (((s_a ** 2)/n_a ) + ((s_b**2)/n_b))**2\n",
    "   denom_left = (1 / (n_a - 1)) * ( ((s_a ** 2) / n_a) ** 2)\n",
    "   denom_right = (1 / (n_b - 1)) * ( ((s_b ** 2) / n_b) ** 2)\n",
    "   denom = denom_left + denom_right\n",
    "   return (numerator / denom) - 2"
   ]
  },
  {
   "cell_type": "markdown",
   "id": "edfdf385",
   "metadata": {},
   "source": [
    "## Set up the folders"
   ]
  },
  {
   "cell_type": "code",
   "execution_count": 162,
   "id": "ddfb5f5c",
   "metadata": {},
   "outputs": [],
   "source": [
    "FIBONACCI_ROOT = \"fibonacci\"\n",
    "MERGESORT_ROOT = \"mergesort\"\n",
    "\n",
    "WUKONG_DC_FOLDER = \"wukongdc\"\n",
    "WUKONG2_FOLDER = \"wukong2\"\n",
    "\n",
    "WUKONGDC_FIBONACCI_FILENAME = \"fibonacci_%d_bench.csv\"\n",
    "WUKONG2_FIBONACCI_FILENAME = \"wukong2_fibonacci_%d_bench.csv\"\n",
    "\n",
    "WUKONG2_MS_FILENAME = \"wukong2_mergesort_%d_bench.csv\"\n",
    "WUKONGDC_MS_FILENAME = \"mergesort_%d_bench.csv\""
   ]
  },
  {
   "cell_type": "markdown",
   "id": "d2c20fd7",
   "metadata": {},
   "source": [
    "## Load Fibonacci data"
   ]
  },
  {
   "cell_type": "code",
   "execution_count": 163,
   "id": "2ec33c59",
   "metadata": {},
   "outputs": [],
   "source": [
    "fibonacci_problem_sizes = [8,12,16]\n",
    "\n",
    "wukong2_fib_dataframes = {}\n",
    "wukongdc_fib_dataframes = {}\n",
    "\n",
    "# Wukong2 DataFrames\n",
    "wukong2_directory = os.path.join(os.path.join(FIBONACCI_ROOT, WUKONG2_FOLDER))\n",
    "for problem_size in fibonacci_problem_sizes:\n",
    "    filename = os.path.join(wukong2_directory, WUKONG2_FIBONACCI_FILENAME % problem_size)\n",
    "    df = pd.read_csv(filename)\n",
    "    wukong2_fib_dataframes[problem_size] = df\n",
    "\n",
    "# Wukong Divide-and-Conquer DataFrames\n",
    "wukongdc_directory = os.path.join(os.path.join(FIBONACCI_ROOT, WUKONG_DC_FOLDER))\n",
    "for problem_size in fibonacci_problem_sizes:\n",
    "    filename = os.path.join(wukongdc_directory, WUKONGDC_FIBONACCI_FILENAME % problem_size)\n",
    "    df = pd.read_csv(filename)\n",
    "    wukongdc_fib_dataframes[problem_size] = df"
   ]
  },
  {
   "cell_type": "markdown",
   "id": "dbc186a5",
   "metadata": {},
   "source": [
    "## Load merge sort data"
   ]
  },
  {
   "cell_type": "code",
   "execution_count": 164,
   "id": "e5219c0d",
   "metadata": {},
   "outputs": [],
   "source": [
    "mergesort_problem_sizes = [100, 250, 500, 1000, 2048, 4096, 8192]\n",
    "\n",
    "def load_merge_sort_data():\n",
    "    wukong2_ms_dataframes = {}\n",
    "    wukongdc_ms_dataframes = {}\n",
    "\n",
    "    # Wukong2 DataFrames\n",
    "    wukong2_directory = os.path.join(os.path.join(MERGESORT_ROOT, WUKONG2_FOLDER))\n",
    "    for problem_size in mergesort_problem_sizes:\n",
    "        filename = os.path.join(wukong2_directory, WUKONG2_MS_FILENAME % problem_size)\n",
    "        df = pd.read_csv(filename)\n",
    "        wukong2_ms_dataframes[problem_size] = df\n",
    "\n",
    "    # Wukong Divide-and-Conquer DataFrames\n",
    "    wukongdc_directory = os.path.join(os.path.join(MERGESORT_ROOT, WUKONG_DC_FOLDER))\n",
    "    for problem_size in mergesort_problem_sizes:\n",
    "        filename = os.path.join(wukongdc_directory, WUKONGDC_MS_FILENAME % problem_size)\n",
    "        df = pd.read_csv(filename)\n",
    "        wukongdc_ms_dataframes[problem_size] = df\n",
    "    \n",
    "    return wukong2_ms_dataframes, wukongdc_ms_dataframes\n",
    "\n",
    "wukong2_ms_dataframes, wukongdc_ms_dataframes = load_merge_sort_data()"
   ]
  },
  {
   "cell_type": "markdown",
   "id": "f06700b1",
   "metadata": {},
   "source": [
    "## Fibonacci graphs"
   ]
  },
  {
   "cell_type": "code",
   "execution_count": 199,
   "id": "2cc18537",
   "metadata": {
    "scrolled": true
   },
   "outputs": [
    {
     "data": {
      "text/plain": [
       "<Figure size 432x288 with 0 Axes>"
      ]
     },
     "metadata": {},
     "output_type": "display_data"
    },
    {
     "data": {
      "text/plain": [
       "<Figure size 864x576 with 0 Axes>"
      ]
     },
     "metadata": {},
     "output_type": "display_data"
    },
    {
     "data": {
      "text/plain": [
       "<Figure size 864x576 with 0 Axes>"
      ]
     },
     "metadata": {},
     "output_type": "display_data"
    },
    {
     "data": {
      "text/plain": [
       "<Figure size 864x576 with 0 Axes>"
      ]
     },
     "metadata": {},
     "output_type": "display_data"
    },
    {
     "data": {
      "image/png": "[encoded data removed]",
      "text/plain": [
       "<Figure size 864x576 with 1 Axes>"
      ]
     },
     "metadata": {},
     "output_type": "display_data"
    }
   ],
   "source": [
    "wukong_dc_time_averages = []\n",
    "wukong2_time_averages = []\n",
    "wukong_dc_cost_averages = []\n",
    "wukong2_cost_averages = []\n",
    "wukong_dc_num_lambdas_averages = []\n",
    "wukong2_num_lambdas_averages = []\n",
    "wukong_dc_agg_dur_averages = []\n",
    "wukong2_agg_dur_averages = []\n",
    "\n",
    "for problem_size in fibonacci_problem_sizes:\n",
    "    wukong_dc_df = wukongdc_fib_dataframes[problem_size]\n",
    "    wukong2_df = wukong2_fib_dataframes[problem_size]\n",
    "    \n",
    "    wukong_dc_time = wukong_dc_df[\"time\"]\n",
    "    wukong2_time = wukong2_df[\"time\"]\n",
    "    wukong_dc_cost = wukong_dc_df[\"cost\"]\n",
    "    wukong2_cost = wukong2_df[\"cost\"]\n",
    "    \n",
    "    wukong_dc_num_lambdas = wukong_dc_df[\"num_lambdas\"]\n",
    "    wukong2_num_lambdas = wukong2_df[\"num_lambdas\"]\n",
    "    wukong_dc_agg_dur = wukong_dc_df[\"aggregate_duration\"]\n",
    "    wukong2_agg_dur = wukong2_df[\"aggregate_duration\"]    \n",
    "    \n",
    "    wukong_dc_time_averages.append(np.mean(wukong_dc_time.values))\n",
    "    wukong2_time_averages.append(np.mean(wukong2_time.values))\n",
    "    wukong_dc_cost_averages.append(np.mean(wukong_dc_cost.values))\n",
    "    wukong2_cost_averages.append(np.mean(wukong2_cost.values))  \n",
    "    \n",
    "    wukong_dc_num_lambdas_averages.append(np.mean(wukong_dc_num_lambdas.values))\n",
    "    wukong2_num_lambdas_averages.append(np.mean(wukong2_num_lambdas.values))\n",
    "    wukong_dc_agg_dur_averages.append(np.mean(wukong_dc_agg_dur.values))\n",
    "    wukong2_agg_dur_averages.append(np.mean(wukong2_agg_dur.values))       \n",
    "        \n",
    "plt.clf()\n",
    "fig, ax = plt.subplots(figsize=(12,8))\n",
    "ax.plot([8,12,16], wukong_dc_time_averages, label = \"Wukong-DC\")\n",
    "ax.plot([8,12,16], wukong2_time_averages, label = \"Wukong-Std\")\n",
    "ax.set_xlabel(\"Problem Size\")\n",
    "ax.set_xticks([8,12,16])\n",
    "ax.set_ylim(ymin=0)\n",
    "ax.set_ylabel(\"Average Runtime (seconds)\")\n",
    "plt.tight_layout()\n",
    "plt.legend()\n",
    "plt.savefig(\"fibonacci_time.pdf\")\n",
    "\n",
    "plt.clf()\n",
    "fig, ax = plt.subplots(figsize=(12,8))\n",
    "ax.plot([8,12,16], wukong_dc_cost_averages, label = \"Wukong-DC\")\n",
    "ax.plot([8,12,16], wukong2_cost_averages, label = \"Wukong-Std\")\n",
    "ax.set_xlabel(\"Problem Size\")\n",
    "ax.set_xticks([8,12,16])\n",
    "ax.set_ylim(ymin=0)\n",
    "ax.set_ylabel(\"Average Cost (USD)\")\n",
    "plt.tight_layout()\n",
    "plt.legend()\n",
    "plt.savefig(\"fibonacci_cost.pdf\")\n",
    "\n",
    "\n",
    "plt.clf()\n",
    "fig, ax = plt.subplots(figsize=(12,8))\n",
    "ax.plot([8,12,16], wukong_dc_num_lambdas_averages, label = \"Wukong-DC\")\n",
    "ax.plot([8,12,16], wukong2_num_lambdas_averages, label = \"Wukong-Std\")\n",
    "ax.set_xlabel(\"Problem Size\")\n",
    "ax.set_xticks([8,12,16])\n",
    "ax.set_ylim(ymin=0)\n",
    "ax.set_ylabel(\"Number of Lambdas\")\n",
    "plt.tight_layout()\n",
    "plt.legend()\n",
    "plt.savefig(\"fibonacci_num_lambdas.pdf\")\n",
    "\n",
    "plt.clf()\n",
    "fig, ax = plt.subplots(figsize=(12,8))\n",
    "ax.plot([8,12,16], wukong_dc_agg_dur_averages, label = \"Wukong-DC\")\n",
    "ax.plot([8,12,16], wukong2_agg_dur_averages, label = \"Wukong-Std\")\n",
    "ax.set_xlabel(\"Problem Size\")\n",
    "ax.set_xticks([8,12,16])\n",
    "ax.set_ylim(ymin=0)\n",
    "ax.set_ylabel(\"Aggregate Duration (seconds)\")\n",
    "plt.tight_layout()\n",
    "plt.legend()\n",
    "plt.savefig(\"fibonacci_agg_dur.pdf\")"
   ]
  },
  {
   "cell_type": "markdown",
   "id": "04dcda94",
   "metadata": {},
   "source": [
    "## Merge Sort"
   ]
  },
  {
   "cell_type": "code",
   "execution_count": 200,
   "id": "74c72f83",
   "metadata": {
    "scrolled": true
   },
   "outputs": [
    {
     "name": "stderr",
     "output_type": "stream",
     "text": [
      "C:\\Users\\benrc\\AppData\\Local\\Temp/ipykernel_33384/3981604096.py:42: UserWarning: FixedFormatter should only be used together with FixedLocator\n",
      "  ax.xaxis.set_ticklabels([100] + mergesort_problem_sizes)\n",
      "C:\\Users\\benrc\\AppData\\Local\\Temp/ipykernel_33384/3981604096.py:58: UserWarning: FixedFormatter should only be used together with FixedLocator\n",
      "  ax.xaxis.set_ticklabels([100] + mergesort_problem_sizes)\n",
      "C:\\Users\\benrc\\AppData\\Local\\Temp/ipykernel_33384/3981604096.py:71: UserWarning: FixedFormatter should only be used together with FixedLocator\n",
      "  ax.xaxis.set_ticklabels([100] + mergesort_problem_sizes)\n"
     ]
    },
    {
     "name": "stdout",
     "output_type": "stream",
     "text": [
      "len(x_values): 7\n",
      "len(mergesort_problem_sizes): 7\n",
      "[100, 250, 500, 1000, 2048, 4096, 8192]\n"
     ]
    },
    {
     "name": "stderr",
     "output_type": "stream",
     "text": [
      "C:\\Users\\benrc\\AppData\\Local\\Temp/ipykernel_33384/3981604096.py:83: UserWarning: FixedFormatter should only be used together with FixedLocator\n",
      "  ax.xaxis.set_ticklabels([100] + mergesort_problem_sizes)\n"
     ]
    },
    {
     "data": {
      "text/plain": [
       "<Figure size 432x288 with 0 Axes>"
      ]
     },
     "metadata": {},
     "output_type": "display_data"
    },
    {
     "data": {
      "text/plain": [
       "<Figure size 864x576 with 0 Axes>"
      ]
     },
     "metadata": {},
     "output_type": "display_data"
    },
    {
     "data": {
      "text/plain": [
       "<Figure size 864x576 with 0 Axes>"
      ]
     },
     "metadata": {},
     "output_type": "display_data"
    },
    {
     "data": {
      "text/plain": [
       "<Figure size 864x576 with 0 Axes>"
      ]
     },
     "metadata": {},
     "output_type": "display_data"
    },
    {
     "data": {
      "image/png": "[encoded data removed]",
      "text/plain": [
       "<Figure size 864x576 with 1 Axes>"
      ]
     },
     "metadata": {},
     "output_type": "display_data"
    }
   ],
   "source": [
    "wukong2_ms_dataframes, wukongdc_ms_dataframes = load_merge_sort_data()\n",
    "\n",
    "wukong_dc_time_averages = []\n",
    "wukong2_time_averages = []\n",
    "wukong_dc_cost_averages = []\n",
    "wukong2_cost_averages = []\n",
    "wukong_dc_num_lambdas_averages = []\n",
    "wukong2_num_lambdas_averages = []\n",
    "wukong_dc_agg_dur_averages = []\n",
    "wukong2_agg_dur_averages = []\n",
    "\n",
    "for problem_size in mergesort_problem_sizes:\n",
    "    wukong_dc_df = wukongdc_ms_dataframes[problem_size]\n",
    "    wukong2_df = wukong2_ms_dataframes[problem_size]\n",
    "    \n",
    "    wukong_dc_time = wukong_dc_df[\"time\"]\n",
    "    wukong2_time = wukong2_df[\"time\"]\n",
    "    wukong_dc_cost = wukong_dc_df[\"cost\"]\n",
    "    wukong2_cost = wukong2_df[\"cost\"]\n",
    "    \n",
    "    wukong_dc_num_lambdas = wukong_dc_df[\"num_lambdas\"]\n",
    "    wukong2_num_lambdas = wukong2_df[\"num_lambdas\"]\n",
    "    wukong_dc_agg_dur = wukong_dc_df[\"aggregate_duration\"]\n",
    "    wukong2_agg_dur = wukong2_df[\"aggregate_duration\"]    \n",
    "    \n",
    "    wukong_dc_time_averages.append(np.mean(wukong_dc_time.values))\n",
    "    wukong2_time_averages.append(np.mean(wukong2_time.values))\n",
    "    wukong_dc_cost_averages.append(np.mean(wukong_dc_cost.values))\n",
    "    wukong2_cost_averages.append(np.mean(wukong2_cost.values))  \n",
    "    \n",
    "    wukong_dc_num_lambdas_averages.append(np.mean(wukong_dc_num_lambdas.values))\n",
    "    wukong2_num_lambdas_averages.append(np.mean(wukong2_num_lambdas.values))\n",
    "    wukong_dc_agg_dur_averages.append(np.mean(wukong_dc_agg_dur.values))\n",
    "    wukong2_agg_dur_averages.append(np.mean(wukong2_agg_dur.values))       \n",
    "        \n",
    "plt.clf()\n",
    "fig, ax = plt.subplots(figsize=(12,8))\n",
    "x_values = np.arange(len(mergesort_problem_sizes)) #[i+1 for i in range(len(mergesort_problem_sizes))]\n",
    "ax.plot(x_values, wukong_dc_time_averages, label = \"Wukong-DC\")\n",
    "ax.plot(x_values, wukong2_time_averages, label = \"Wukong-Std\")\n",
    "ax.set_xlabel(\"Problem Size\")\n",
    "ax.xaxis.set_ticklabels([100] + mergesort_problem_sizes)\n",
    "ax.set_ylim(ymin=0)\n",
    "ax.set_ylabel(\"Average Runtime (seconds)\")\n",
    "plt.tight_layout()\n",
    "plt.legend()\n",
    "plt.savefig(\"mergesort_time.pdf\")\n",
    "\n",
    "print(\"len(x_values): \" + str(len(x_values)))\n",
    "print(\"len(mergesort_problem_sizes): \" + str(len(mergesort_problem_sizes)))\n",
    "print(mergesort_problem_sizes)\n",
    "\n",
    "plt.clf()\n",
    "fig, ax = plt.subplots(figsize=(12,8))\n",
    "ax.plot(x_values, wukong_dc_cost_averages, label = \"Wukong-DC\")\n",
    "ax.plot(x_values, wukong2_cost_averages, label = \"Wukong-Std\")\n",
    "ax.set_xlabel(\"Problem Size\")\n",
    "ax.xaxis.set_ticklabels([100] + mergesort_problem_sizes)\n",
    "ax.set_ylim(ymin=0)\n",
    "ax.set_ylabel(\"Average Cost (USD)\")\n",
    "plt.tight_layout()\n",
    "plt.legend()\n",
    "plt.savefig(\"mergesort_cost.pdf\")\n",
    "\n",
    "\n",
    "plt.clf()\n",
    "fig, ax = plt.subplots(figsize=(12,8))\n",
    "ax.plot(x_values, wukong_dc_num_lambdas_averages, label = \"Wukong-DC\")\n",
    "ax.plot(x_values, wukong2_num_lambdas_averages, label = \"Wukong-Std\")\n",
    "ax.set_xlabel(\"Problem Size\")\n",
    "ax.xaxis.set_ticklabels([100] + mergesort_problem_sizes)\n",
    "ax.set_ylim(ymin=0)\n",
    "ax.set_ylabel(\"Number of Lambdas\")\n",
    "plt.tight_layout()\n",
    "plt.legend()\n",
    "plt.savefig(\"mergesort_num_lambdas.pdf\")\n",
    "\n",
    "plt.clf()\n",
    "fig, ax = plt.subplots(figsize=(12,8))\n",
    "ax.plot(x_values, wukong_dc_agg_dur_averages, label = \"Wukong-DC\")\n",
    "ax.plot(x_values, wukong2_agg_dur_averages, label = \"Wukong-Std\")\n",
    "ax.set_xlabel(\"Problem Size\")\n",
    "ax.xaxis.set_ticklabels([100] + mergesort_problem_sizes)\n",
    "ax.set_ylim(ymin=0)\n",
    "ax.set_ylabel(\"Aggregate Duration (seconds)\")\n",
    "plt.tight_layout()\n",
    "plt.legend()\n",
    "plt.savefig(\"mergesort_agg_dur.pdf\")"
   ]
  },
  {
   "cell_type": "markdown",
   "id": "c37f840d",
   "metadata": {},
   "source": [
    "## Merge Sort, varying the SEQUENTIAL_THRESHOLD parameter"
   ]
  },
  {
   "cell_type": "code",
   "execution_count": 241,
   "id": "45ccbadb",
   "metadata": {
    "scrolled": false
   },
   "outputs": [
    {
     "name": "stdout",
     "output_type": "stream",
     "text": [
      "[2, 4, 8, 16, 32, 64, 128, 256, 512, 1024]\n",
      "[0 1 2 3 4 5 6 7 8 9]\n",
      "10\n",
      "10\n"
     ]
    },
    {
     "data": {
      "text/plain": [
       "<Figure size 432x288 with 0 Axes>"
      ]
     },
     "metadata": {},
     "output_type": "display_data"
    },
    {
     "data": {
      "text/plain": [
       "<Figure size 864x576 with 0 Axes>"
      ]
     },
     "metadata": {},
     "output_type": "display_data"
    },
    {
     "data": {
      "text/plain": [
       "<Figure size 864x576 with 0 Axes>"
      ]
     },
     "metadata": {},
     "output_type": "display_data"
    },
    {
     "data": {
      "text/plain": [
       "<Figure size 864x576 with 0 Axes>"
      ]
     },
     "metadata": {},
     "output_type": "display_data"
    },
    {
     "data": {
      "image/png": "[encoded data removed]",
      "text/plain": [
       "<Figure size 864x576 with 1 Axes>"
      ]
     },
     "metadata": {},
     "output_type": "display_data"
    }
   ],
   "source": [
    "seq_thresh_dfs = {}\n",
    "sequential_thresholds = [2, 4, 8, 16, 32, 64, 128, 256, 512, 1024]\n",
    "directory = \"wukongdc_seq_tests\"\n",
    "filename_base = os.path.join(MERGESORT_ROOT, directory)\n",
    "filename_base = os.path.join(filename_base, \"mergesort_8196_seq=%d_bench.csv\")\n",
    "\n",
    "just_times_df = pd.DataFrame()\n",
    "\n",
    "for sequential_threshold in sequential_thresholds:\n",
    "    filename = filename_base % sequential_threshold\n",
    "    df = pd.read_csv(filename)\n",
    "    seq_thresh_dfs[sequential_threshold] = df\n",
    "    just_times_df[sequential_threshold] = df['aggregate_duration']\n",
    "\n",
    "just_times_df.to_csv('seq_thresh_aggregate_durations.csv')\n",
    "    \n",
    "times, costs, num_lambdas, agg_durations = [],[],[],[]\n",
    "\n",
    "for sequential_threshold in sequential_thresholds:\n",
    "    df = seq_thresh_dfs[sequential_threshold]\n",
    "    \n",
    "    _times = df[\"time\"]\n",
    "    _costs = df[\"cost\"]\n",
    "    _num_lambdas = df[\"num_lambdas\"]\n",
    "    _agg_durs = df[\"aggregate_duration\"]    \n",
    "    \n",
    "    times.append(np.mean(_times.values))\n",
    "    costs.append(np.mean(_costs.values))\n",
    "    num_lambdas.append(np.mean(_num_lambdas.values))\n",
    "    agg_durations.append(np.mean(_agg_durs.values))      \n",
    "        \n",
    "plt.clf()\n",
    "fig, ax = plt.subplots(figsize=(12,8))\n",
    "x_values = np.arange(len(sequential_thresholds))\n",
    "ax.plot(x_values, times, marker = 'o')\n",
    "ax.set_xlabel(\"Problem Size\")\n",
    "ax.xaxis.set_ticks(x_values)\n",
    "ax.xaxis.set_ticklabels(sequential_thresholds)\n",
    "ax.set_ylim(ymin=0)\n",
    "ax.set_ylabel(\"Average Runtime (seconds)\")\n",
    "plt.tight_layout()\n",
    "plt.savefig(\"mergesort_time_seq_thresh.pdf\")\n",
    "\n",
    "print(sequential_thresholds)\n",
    "print(x_values)\n",
    "print(len(sequential_thresholds))\n",
    "print(len(x_values))\n",
    "\n",
    "plt.clf()\n",
    "fig, ax = plt.subplots(figsize=(12,8))\n",
    "ax.plot(x_values, costs, marker = 'o')\n",
    "ax.set_xlabel(\"Problem Size\")\n",
    "ax.xaxis.set_ticks(x_values)\n",
    "ax.xaxis.set_ticklabels(sequential_thresholds)\n",
    "ax.set_ylim(ymin=0)\n",
    "ax.set_ylabel(\"Average Cost (USD)\")\n",
    "plt.tight_layout()\n",
    "plt.savefig(\"mergesort_cost_seq_thresh.pdf\")\n",
    "\n",
    "\n",
    "plt.clf()\n",
    "fig, ax = plt.subplots(figsize=(12,8))\n",
    "ax.plot(x_values, num_lambdas, marker = 'o')\n",
    "ax.set_xlabel(\"Problem Size\")\n",
    "ax.xaxis.set_ticks(x_values)\n",
    "ax.xaxis.set_ticklabels(sequential_thresholds)\n",
    "ax.set_ylim(ymin=0)\n",
    "ax.set_ylabel(\"Number of Lambdas\")\n",
    "plt.tight_layout()\n",
    "plt.savefig(\"mergesort_num_lambdas_seq_thresh.pdf\")\n",
    "\n",
    "plt.clf()\n",
    "fig, ax = plt.subplots(figsize=(12,8))\n",
    "ax.plot(x_values, agg_durations, marker = 'o')\n",
    "ax.set_xlabel(\"Problem Size\")\n",
    "ax.xaxis.set_ticks(x_values)\n",
    "ax.xaxis.set_ticklabels(sequential_thresholds)\n",
    "ax.set_ylim(ymin=0)\n",
    "ax.set_ylabel(\"Aggregate Duration (seconds)\")\n",
    "plt.tight_layout()\n",
    "plt.savefig(\"mergesort_agg_dur_seq_thresh.pdf\")"
   ]
  },
  {
   "cell_type": "markdown",
   "id": "492be20b",
   "metadata": {},
   "source": [
    "## Testing for statistical significance"
   ]
  },
  {
   "cell_type": "markdown",
   "id": "534191c4",
   "metadata": {},
   "source": [
    "## Independent (unpaired) samples, unequal variance - Welch's t-interval.\n",
    "\n",
    "We are assuming unequal variance of samples. An equal variance t-test is not robust when the variances of the two populations differ. Luckily, unequal variances are robust, even in situations where the variance of the populations are in fact equal. "
   ]
  },
  {
   "cell_type": "code",
   "execution_count": 213,
   "id": "0949d7f5",
   "metadata": {},
   "outputs": [
    {
     "name": "stdout",
     "output_type": "stream",
     "text": [
      "================ PROBLEM SIZE: 8 ================\n",
      "s1=0.0036132583105502134,s2=0.0016088312951530112\n",
      "df=33.12036860094361\n",
      "t=2.0342344432167\n",
      "s=0.05109838356397991\n",
      "CI (0.601662,0.667403), p = 2.3321871058254174e-29, t = 39.268731\n",
      "================ PROBLEM SIZE: 12 ================\n",
      "s1=0.05715123872407883,s2=0.02190642492188542\n",
      "df=31.699743418667897\n",
      "t=2.03769028752454\n",
      "s=0.19881859023487247\n",
      "CI (-0.042007,0.214220), p = 0.1804527180901493, t = 1.369548\n",
      "================ PROBLEM SIZE: 16 ================\n",
      "s1=0.06557595887129676,s2=0.03719151869041193\n",
      "df=35.306575140767784\n",
      "t=2.0294779696551357\n",
      "s=0.2266798155567768\n",
      "CI (-6.649559,-6.358603), p = 1.974629823327821e-43, t = -90.734631\n"
     ]
    }
   ],
   "source": [
    "fib_descripitive_statistics = []\n",
    "fib_other_stats = []\n",
    "for problem_size in fibonacci_problem_sizes:\n",
    "    print(\"================ PROBLEM SIZE: %d ================\" % problem_size)\n",
    "    wukong_dc_df = wukongdc_fib_dataframes[problem_size]\n",
    "    wukong2_df = wukong2_fib_dataframes[problem_size]\n",
    "    \n",
    "    wukong_dc_time = wukong_dc_df[\"time\"].values\n",
    "    wukong2_time = wukong2_df[\"time\"].values\n",
    "    \n",
    "    # Significance level.\n",
    "    alpha = 0.05\n",
    "    \n",
    "    # Sample sizes.\n",
    "    n1, n2 = len(wukong_dc_time), len(wukong2_time)\n",
    "    #print(\"wukong_dc_time: \" + str(wukong_dc_time))\n",
    "    #print(\"wukong2_time: \" + str(wukong2_time))\n",
    "    \n",
    "    std1, std2 = np.std(wukong_dc_time), np.std(wukong2_time)\n",
    "    \n",
    "    # Sample variances.\n",
    "    s1, s2 = np.var(wukong_dc_time, ddof = 1), np.var(wukong2_time, ddof = 1)\n",
    "    print(\"s1=%s,s2=%s\" % (str(s1), str(s2)))\n",
    "    \n",
    "    # Degrees of freedom.\n",
    "    df = (s1 / n1 + s2/n2) ** 2 / ((s1 / n1) ** 2 / (n1 - 1) + (s2 / n2) ** 2 / (n2 - 1))\n",
    "    print(\"df=\" + str(df))\n",
    "    \n",
    "    # t-critical value for 95% CI.\n",
    "    t = stats.t.ppf(1 - alpha / 2, df)\n",
    "    print(\"t=\" + str(t))\n",
    "    \n",
    "    # Pooled standard deviation.\n",
    "    s = np.sqrt(((n1 - 1) * s1 + (n2 - 1) * s2) / (n1 + n2 - 2))\n",
    "    print(\"s=\" + str(s))\n",
    "    \n",
    "    lower_ci = (np.mean(wukong_dc_time) - np.mean(wukong2_time)) - t * np.sqrt((1 / n1) + (1 / n2)) * s\n",
    "    upper_ci = (np.mean(wukong_dc_time) - np.mean(wukong2_time)) + t * np.sqrt((1 / n1) + (1 / n2)) * s\n",
    "    \n",
    "    result = stats.ttest_ind(wukong_dc_time, wukong2_time, equal_var=False)\n",
    "    print(\"CI (%f,%f), p = %s, t = %f\" % (lower_ci, upper_ci, str(result.pvalue), result.statistic))\n",
    "    \n",
    "    entry1 = {\n",
    "        \"system\": \"Wukong-DC\",\n",
    "        \"n\": problem_size,\n",
    "        \"mean\": np.mean(wukong_dc_time),\n",
    "        \"std\": std1,\n",
    "        \"var\": s1\n",
    "    }\n",
    "    \n",
    "    entry2 = {\n",
    "        \"system\": \"Wukong-Std\",\n",
    "        \"n\": problem_size,\n",
    "        \"mean\": np.mean(wukong2_time),\n",
    "        \"std\": std2,\n",
    "        \"var\": s2\n",
    "    }\n",
    "    \n",
    "    fib_descripitive_statistics.append(entry1)\n",
    "    fib_descripitive_statistics.append(entry2)\n",
    "    \n",
    "    entry3 = {\n",
    "        \"n\": str(round(problem_size, 4)),\n",
    "        \"p\": str(round(result.pvalue, 4)),\n",
    "        \"CI\": \"[%0.3f,%0.3f]\" % (lower_ci, upper_ci),\n",
    "        \"t-crit\": str(round(t, 4)),\n",
    "        \"t-stat\": str(round(result.statistic, 4)),\n",
    "    }\n",
    "    \n",
    "    fib_other_stats.append(entry3)\n",
    "    \n",
    "\n",
    "df = pd.DataFrame(fib_descripitive_statistics)\n",
    "df.to_csv(\"descripitive_statistics_fib.csv\")    \n",
    "\n",
    "df = pd.DataFrame(fib_other_stats)\n",
    "df.to_csv(\"other_statistics_fib.csv\", sep = \"\\t\")"
   ]
  },
  {
   "cell_type": "code",
   "execution_count": 214,
   "id": "b9dc5e24",
   "metadata": {},
   "outputs": [
    {
     "name": "stdout",
     "output_type": "stream",
     "text": [
      "================ PROBLEM SIZE: 100 ================\n",
      "s1=0.00805550630476127,s2=0.029165360185845635\n",
      "df=28.75171425520272\n",
      "t=2.0459970807316576\n",
      "s=0.13642006174057925\n",
      "CI (-0.849696,-0.673168), p = 5.738792175630118e-17, t = -17.650333\n",
      "================ PROBLEM SIZE: 250 ================\n",
      "s1=0.027660698180602322,s2=0.05590659877966018\n",
      "df=34.103802625432735\n",
      "t=2.0320166932073707\n",
      "s=0.20441049014209436\n",
      "CI (-0.491163,-0.228463), p = 3.1235195478445885e-06, t = -5.566386\n",
      "================ PROBLEM SIZE: 500 ================\n",
      "s1=0.02917865960239445,s2=0.01963561686137355\n",
      "df=36.60113880413375\n",
      "t=2.0269380474713823\n",
      "s=0.15622784077072818\n",
      "CI (0.077350,0.277626), p = 0.0009568098296170786, t = 3.592605\n",
      "================ PROBLEM SIZE: 1000 ================\n",
      "s1=0.14499880238416216,s2=0.05296018652774601\n",
      "df=31.245704911433123\n",
      "t=2.0388636098032094\n",
      "s=0.31461006731500835\n",
      "CI (0.859280,1.264966), p = 5.971239000771215e-12, t = 10.675845\n",
      "================ PROBLEM SIZE: 2048 ================\n",
      "s1=0.054025089463337374,s2=11.93941109612517\n",
      "df=19.17194410591911\n",
      "t=2.0917542820060255\n",
      "s=2.44881973464652\n",
      "CI (-0.193301,3.046344), p = 0.08097801385945153, t = 1.842135\n",
      "================ PROBLEM SIZE: 4096 ================\n",
      "s1=0.12294332053984623,s2=0.07318434045952843\n",
      "df=35.70196140611756\n",
      "t=2.0286820307592803\n",
      "s=0.3131514497805931\n",
      "CI (4.601753,5.003543), p = 3.4849650843972194e-34, t = 48.498280\n",
      "================ PROBLEM SIZE: 8192 ================\n",
      "s1=0.16538191276379688,s2=0.00863443876679519\n",
      "df=20.978552212336627\n",
      "t=2.079743311976648\n",
      "s=0.29497148296961867\n",
      "CI (9.285535,9.673524), p = 9.71425233074511e-30, t = 101.626452\n"
     ]
    }
   ],
   "source": [
    "descripitive_statistics = []\n",
    "ms_other_stats = []\n",
    "\n",
    "for problem_size in mergesort_problem_sizes:\n",
    "    print(\"================ PROBLEM SIZE: %d ================\" % problem_size)\n",
    "    wukong_dc_df = wukongdc_ms_dataframes[problem_size]\n",
    "    wukong2_df = wukong2_ms_dataframes[problem_size]\n",
    "    \n",
    "    wukong_dc_time = wukong_dc_df[\"time\"].values\n",
    "    wukong2_time = wukong2_df[\"time\"].values\n",
    "    \n",
    "    # Significance level.\n",
    "    alpha = 0.05\n",
    "    \n",
    "    # Sample sizes.\n",
    "    n1, n2 = len(wukong_dc_time), len(wukong2_time)\n",
    "    #print(\"wukong_dc_time: \" + str(wukong_dc_time))\n",
    "    #print(\"wukong2_time: \" + str(wukong2_time))\n",
    "    \n",
    "    # Sample variances.\n",
    "    s1, s2 = np.var(wukong_dc_time, ddof = 1), np.var(wukong2_time, ddof = 1)\n",
    "    print(\"s1=%s,s2=%s\" % (str(s1), str(s2)))\n",
    "    \n",
    "    std1, std2 = np.std(wukong_dc_time), np.std(wukong2_time)\n",
    "    \n",
    "    # Degrees of freedom.\n",
    "    df = (s1 / n1 + s2/n2) ** 2 / ((s1 / n1) ** 2 / (n1 - 1) + (s2 / n2) ** 2 / (n2 - 1))\n",
    "    print(\"df=\" + str(df))\n",
    "    \n",
    "    # t-critical value for 95% CI.\n",
    "    t = stats.t.ppf(1 - alpha / 2, df)\n",
    "    print(\"t=\" + str(t))\n",
    "    \n",
    "    # Pooled standard deviation.\n",
    "    s = np.sqrt(((n1 - 1) * s1 + (n2 - 1) * s2) / (n1 + n2 - 2))\n",
    "    print(\"s=\" + str(s))\n",
    "    \n",
    "    lower_ci = (np.mean(wukong_dc_time) - np.mean(wukong2_time)) - t * np.sqrt((1 / n1) + (1 / n2)) * s\n",
    "    upper_ci = (np.mean(wukong_dc_time) - np.mean(wukong2_time)) + t * np.sqrt((1 / n1) + (1 / n2)) * s\n",
    "    \n",
    "    result = stats.ttest_ind(wukong_dc_time, wukong2_time, equal_var=False)\n",
    "    print(\"CI (%f,%f), p = %s, t = %f\" % (lower_ci, upper_ci, str(result.pvalue), result.statistic))\n",
    "    \n",
    "    entry1 = {\n",
    "        \"system\": \"Wukong-DC\",\n",
    "        \"n\": problem_size,\n",
    "        \"mean\": np.mean(wukong_dc_time),\n",
    "        \"std\": std1,\n",
    "        \"var\": s1\n",
    "    }\n",
    "    \n",
    "    entry2 = {\n",
    "        \"system\": \"Wukong-Std\",\n",
    "        \"n\": problem_size,\n",
    "        \"mean\": np.mean(wukong2_time),\n",
    "        \"std\": std2,\n",
    "        \"var\": s2\n",
    "    }\n",
    "    \n",
    "    descripitive_statistics.append(entry1)\n",
    "    descripitive_statistics.append(entry2)\n",
    "    \n",
    "    entry3 = {\n",
    "        \"n\": str(round(problem_size, 4)),\n",
    "        \"p\": str(round(result.pvalue, 4)),\n",
    "        \"CI\": \"[%0.3f,%0.3f]\" % (lower_ci, upper_ci),\n",
    "        \"t-crit\": str(round(t, 4)),\n",
    "        \"t-stat\": str(round(result.statistic, 4)),\n",
    "    }\n",
    "    \n",
    "    ms_other_stats.append(entry3)    \n",
    "\n",
    "df = pd.DataFrame(descripitive_statistics)\n",
    "df.to_csv(\"descripitive_statistics_ms.csv\")\n",
    "\n",
    "df = pd.DataFrame(ms_other_stats)\n",
    "df.to_csv(\"other_statistics_ms.csv\", sep = \"\\t\")"
   ]
  },
  {
   "cell_type": "code",
   "execution_count": 235,
   "id": "45345fdf",
   "metadata": {},
   "outputs": [],
   "source": [
    "def compute_statistics(problem_sizes, wukongdc_dataframes = wukongdc_ms_dataframes, wukong2_dataframes = wukong2_ms_dataframes, column = \"time\"):\n",
    "    descripitive_statistics = []\n",
    "    other_stats = []\n",
    "    print(\"COLUMN: \" + str(column))\n",
    "\n",
    "    for problem_size in problem_sizes:\n",
    "        print(\"================ PROBLEM SIZE: %d ================\" % problem_size)\n",
    "        wukong_dc_df = wukongdc_dataframes[problem_size]\n",
    "        wukong2_df = wukong2_dataframes[problem_size]\n",
    "\n",
    "        wukong_dc_column = wukong_dc_df[column].values\n",
    "        wukong2_column = wukong2_df[column].values\n",
    "\n",
    "        # Significance level.\n",
    "        alpha = 0.05\n",
    "\n",
    "        # Sample sizes.\n",
    "        n1, n2 = len(wukong_dc_column), len(wukong2_column)\n",
    "        #print(\"wukong_dc_time: \" + str(wukong_dc_time))\n",
    "        #print(\"wukong2_time: \" + str(wukong2_time))\n",
    "\n",
    "        # Sample variances.\n",
    "        s1, s2 = np.var(wukong_dc_column, ddof = 1), np.var(wukong2_column, ddof = 1)\n",
    "        print(\"s1=%s,s2=%s\" % (str(s1), str(s2)))\n",
    "\n",
    "        std1, std2 = np.std(wukong_dc_column), np.std(wukong2_column)\n",
    "\n",
    "        # Degrees of freedom.\n",
    "        df = (s1 / n1 + s2/n2) ** 2 / ((s1 / n1) ** 2 / (n1 - 1) + (s2 / n2) ** 2 / (n2 - 1))\n",
    "        print(\"df=\" + str(df))\n",
    "\n",
    "        # t-critical value for 95% CI.\n",
    "        t = stats.t.ppf(1 - alpha / 2, df)\n",
    "        print(\"t=\" + str(t))\n",
    "        \n",
    "        print(\"avg1: %s, avg2: %s\" % (np.mean(wukong_dc_column), np.mean(wukong2_column)))\n",
    "\n",
    "        # Pooled standard deviation.\n",
    "        s = np.sqrt(((n1 - 1) * s1 + (n2 - 1) * s2) / (n1 + n2 - 2))\n",
    "        print(\"s=\" + str(s))\n",
    "\n",
    "        lower_ci = (np.mean(wukong_dc_column) - np.mean(wukong2_column)) - t * np.sqrt((1 / n1) + (1 / n2)) * s\n",
    "        upper_ci = (np.mean(wukong_dc_column) - np.mean(wukong2_column)) + t * np.sqrt((1 / n1) + (1 / n2)) * s\n",
    "\n",
    "        result = stats.ttest_ind(wukong_dc_column, wukong2_column, equal_var=False)\n",
    "        print(\"CI (%s,%s), p = %s, t = %f\" % (lower_ci, upper_ci, str(result.pvalue), result.statistic))\n",
    "\n",
    "        entry1 = {\n",
    "            \"system\": \"Wukong-DC\",\n",
    "            \"n\": problem_size,\n",
    "            \"mean\": np.mean(wukong_dc_column),\n",
    "            \"std\": std1,\n",
    "            \"var\": s1\n",
    "        }\n",
    "\n",
    "        entry2 = {\n",
    "            \"system\": \"Wukong-Std\",\n",
    "            \"n\": problem_size,\n",
    "            \"mean\": np.mean(wukong2_column),\n",
    "            \"std\": std2,\n",
    "            \"var\": s2\n",
    "        }\n",
    "\n",
    "        descripitive_statistics.append(entry1)\n",
    "        descripitive_statistics.append(entry2)\n",
    "\n",
    "        entry3 = {\n",
    "            \"n\": str(round(problem_size, 4)),\n",
    "            \"p\": str(round(result.pvalue, 4)),\n",
    "            \"CI\": \"[%0.3f,%0.3f]\" % (lower_ci, upper_ci),\n",
    "            \"t-crit\": str(round(t, 4)),\n",
    "            \"t-stat\": str(round(result.statistic, 4)),\n",
    "        }\n",
    "\n",
    "        other_stats.append(entry3)\n",
    "    return descripitive_statistics, other_stats"
   ]
  },
  {
   "cell_type": "code",
   "execution_count": 240,
   "id": "3fce74db",
   "metadata": {},
   "outputs": [
    {
     "name": "stdout",
     "output_type": "stream",
     "text": [
      "COLUMN: num_lambdas\n",
      "================ PROBLEM SIZE: 100 ================\n",
      "s1=0.0,s2=0.0\n",
      "df=nan\n",
      "t=nan\n",
      "avg1: 12.0, avg2: 131.0\n",
      "s=0.0\n",
      "CI (nan,nan), p = 0.0, t = -inf\n",
      "================ PROBLEM SIZE: 250 ================\n",
      "s1=0.0,s2=0.10526315789473684\n",
      "df=19.0\n",
      "t=2.093024054408263\n",
      "avg1: 32.0, avg2: 131.0\n",
      "s=0.22941573387056177\n",
      "CI (-99.15184392423822,-98.84815607576178), p = 6.914212153858773e-49, t = -1364.620826\n",
      "================ PROBLEM SIZE: 500 ================\n",
      "s1=0.0,s2=0.0\n",
      "df=nan\n",
      "t=nan\n",
      "avg1: 64.0, avg2: 131.0\n",
      "s=0.0\n",
      "CI (nan,nan), p = 0.0, t = -inf\n",
      "================ PROBLEM SIZE: 1000 ================\n",
      "s1=0.0,s2=0.0\n",
      "df=nan\n",
      "t=nan\n",
      "avg1: 128.0, avg2: 131.0\n",
      "s=0.0\n",
      "CI (nan,nan), p = 0.0, t = -inf\n",
      "================ PROBLEM SIZE: 2048 ================\n",
      "s1=0.0,s2=0.0\n",
      "df=nan\n",
      "t=nan\n",
      "avg1: 256.0, avg2: 131.0\n",
      "s=0.0\n",
      "CI (nan,nan), p = 0.0, t = inf\n",
      "================ PROBLEM SIZE: 4096 ================\n",
      "s1=0.0,s2=0.0\n",
      "df=nan\n",
      "t=nan\n",
      "avg1: 512.0, avg2: 131.0\n",
      "s=0.0\n",
      "CI (nan,nan), p = 0.0, t = inf\n",
      "================ PROBLEM SIZE: 8192 ================\n",
      "s1=0.0,s2=0.0\n",
      "df=nan\n",
      "t=nan\n",
      "avg1: 1024.0, avg2: 131.0\n",
      "s=0.0\n",
      "CI (nan,nan), p = 0.0, t = inf\n"
     ]
    },
    {
     "name": "stderr",
     "output_type": "stream",
     "text": [
      "C:\\Users\\benrc\\AppData\\Local\\Temp/ipykernel_33384/1048634354.py:29: RuntimeWarning: invalid value encountered in double_scalars\n",
      "  df = (s1 / n1 + s2/n2) ** 2 / ((s1 / n1) ** 2 / (n1 - 1) + (s2 / n2) ** 2 / (n2 - 1))\n"
     ]
    },
    {
     "data": {
      "text/plain": [
       "([{'system': 'Wukong-DC', 'n': 100, 'mean': 12.0, 'std': 0.0, 'var': 0.0},\n",
       "  {'system': 'Wukong-Std', 'n': 100, 'mean': 131.0, 'std': 0.0, 'var': 0.0},\n",
       "  {'system': 'Wukong-DC', 'n': 250, 'mean': 32.0, 'std': 0.0, 'var': 0.0},\n",
       "  {'system': 'Wukong-Std',\n",
       "   'n': 250,\n",
       "   'mean': 131.0,\n",
       "   'std': 0.31622776601683794,\n",
       "   'var': 0.10526315789473684},\n",
       "  {'system': 'Wukong-DC', 'n': 500, 'mean': 64.0, 'std': 0.0, 'var': 0.0},\n",
       "  {'system': 'Wukong-Std', 'n': 500, 'mean': 131.0, 'std': 0.0, 'var': 0.0},\n",
       "  {'system': 'Wukong-DC', 'n': 1000, 'mean': 128.0, 'std': 0.0, 'var': 0.0},\n",
       "  {'system': 'Wukong-Std', 'n': 1000, 'mean': 131.0, 'std': 0.0, 'var': 0.0},\n",
       "  {'system': 'Wukong-DC', 'n': 2048, 'mean': 256.0, 'std': 0.0, 'var': 0.0},\n",
       "  {'system': 'Wukong-Std', 'n': 2048, 'mean': 131.0, 'std': 0.0, 'var': 0.0},\n",
       "  {'system': 'Wukong-DC', 'n': 4096, 'mean': 512.0, 'std': 0.0, 'var': 0.0},\n",
       "  {'system': 'Wukong-Std', 'n': 4096, 'mean': 131.0, 'std': 0.0, 'var': 0.0},\n",
       "  {'system': 'Wukong-DC', 'n': 8192, 'mean': 1024.0, 'std': 0.0, 'var': 0.0},\n",
       "  {'system': 'Wukong-Std', 'n': 8192, 'mean': 131.0, 'std': 0.0, 'var': 0.0}],\n",
       " [{'n': '100',\n",
       "   'p': '0.0',\n",
       "   'CI': '[nan,nan]',\n",
       "   't-crit': 'nan',\n",
       "   't-stat': '-inf'},\n",
       "  {'n': '250',\n",
       "   'p': '0.0',\n",
       "   'CI': '[-99.152,-98.848]',\n",
       "   't-crit': '2.093',\n",
       "   't-stat': '-1364.6208'},\n",
       "  {'n': '500',\n",
       "   'p': '0.0',\n",
       "   'CI': '[nan,nan]',\n",
       "   't-crit': 'nan',\n",
       "   't-stat': '-inf'},\n",
       "  {'n': '1000',\n",
       "   'p': '0.0',\n",
       "   'CI': '[nan,nan]',\n",
       "   't-crit': 'nan',\n",
       "   't-stat': '-inf'},\n",
       "  {'n': '2048',\n",
       "   'p': '0.0',\n",
       "   'CI': '[nan,nan]',\n",
       "   't-crit': 'nan',\n",
       "   't-stat': 'inf'},\n",
       "  {'n': '4096',\n",
       "   'p': '0.0',\n",
       "   'CI': '[nan,nan]',\n",
       "   't-crit': 'nan',\n",
       "   't-stat': 'inf'},\n",
       "  {'n': '8192',\n",
       "   'p': '0.0',\n",
       "   'CI': '[nan,nan]',\n",
       "   't-crit': 'nan',\n",
       "   't-stat': 'inf'}])"
      ]
     },
     "execution_count": 240,
     "metadata": {},
     "output_type": "execute_result"
    }
   ],
   "source": [
    "compute_statistics(mergesort_problem_sizes, column = \"num_lambdas\")"
   ]
  },
  {
   "cell_type": "code",
   "execution_count": null,
   "id": "eebba31c",
   "metadata": {},
   "outputs": [],
   "source": []
  }
 ],
 "metadata": {
  "kernelspec": {
   "display_name": "Python 3 (ipykernel)",
   "language": "python",
   "name": "python3"
  },
  "language_info": {
   "codemirror_mode": {
    "name": "ipython",
    "version": 3
   },
   "file_extension": ".py",
   "mimetype": "text/x-python",
   "name": "python",
   "nbconvert_exporter": "python",
   "pygments_lexer": "ipython3",
   "version": "3.9.4"
  }
 },
 "nbformat": 4,
 "nbformat_minor": 5
}
